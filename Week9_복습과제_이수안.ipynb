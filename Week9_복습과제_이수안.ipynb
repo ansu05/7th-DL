{
  "cells": [
    {
      "cell_type": "code",
      "execution_count": 2,
      "metadata": {
        "colab": {
          "base_uri": "https://localhost:8080/"
        },
        "id": "MAyG6GGTU_mC",
        "outputId": "31bb5735-ceb0-4ea6-9cf6-38f78e5d1dd3"
      },
      "outputs": [
        {
          "output_type": "stream",
          "name": "stdout",
          "text": [
            "Net(\n",
            "  (conv1): Conv2d(1, 6, kernel_size=(5, 5), stride=(1, 1))\n",
            "  (conv2): Conv2d(6, 16, kernel_size=(5, 5), stride=(1, 1))\n",
            "  (fc1): Linear(in_features=400, out_features=120, bias=True)\n",
            "  (fc2): Linear(in_features=120, out_features=84, bias=True)\n",
            "  (fc3): Linear(in_features=84, out_features=10, bias=True)\n",
            ")\n"
          ]
        }
      ],
      "source": [
        "import torch\n",
        "from torch.autograd import Variable\n",
        "import torch.nn as nn\n",
        "import torch.nn.functional as F\n",
        "\n",
        "### 다음은 간단한 Convolutional Neural Network 모델 구조를 나타낸 코드입니다. 6장을 참고하여 아래 코드를 완성해주세요! ###\n",
        "\n",
        "class Net(nn.Module):\n",
        "\n",
        "    def __init__(self):\n",
        "        super(Net, self).__init__()\n",
        "\n",
        "        # 흑백 이미지(1개 채널)이며, 출력 채널은 6개이고 커널 크기는 5x5\n",
        "        self.conv1 = nn.Conv2d(1, 6, kernel_size=5)\n",
        "\n",
        "        #  입력은 ConvLayer의 출력, 출력 채널은 16개이고 커널 크기는 5x5\n",
        "        self.conv2 = nn.Conv2d(6, 16, kernel_size=5)\n",
        "\n",
        "        # 입력 크기는 Conv2의 출력 크기를 flatten한 값, 출력 크기는 120\n",
        "        self.fc1 = nn.Linear(16 * 5 * 5, 120)\n",
        "\n",
        "        # 출력 크기 84\n",
        "        self.fc2 = nn.Linear(120, 84)\n",
        "\n",
        "        # 출력 크기는 클래스 수(10개)\n",
        "        self.fc3 = nn.Linear(84, 10)\n",
        "\n",
        "    def forward(self, x):\n",
        "        # (2, 2) 윈도우 크기로 맥스 풀링\n",
        "\n",
        "        # Conv1 -> ReLU 활성화 -> MaxPooling\n",
        "        x = F.max_pool2d(F.relu(self.conv1(x)), (2, 2))\n",
        "\n",
        "        # Conv2 -> ReLU 활성화 -> MaxPooling\n",
        "        x = F.max_pool2d(F.relu(self.conv2(x)), (2, 2))\n",
        "\n",
        "        x = x.view(-1, self.num_flat_features(x))\n",
        "\n",
        "        # FC1 -> ReLU 활성화\n",
        "        x = F.relu(self.fc1(x))\n",
        "\n",
        "        # # FC2 -> ReLU 활성화\n",
        "        x = F.relu(self.fc2(x))\n",
        "\n",
        "        x = self.fc3(x)\n",
        "        return x\n",
        "\n",
        "\n",
        "    def num_flat_features(self, x):\n",
        "        size = x.size()[1:]  # 배치 차원을 제외한 모든 차원\n",
        "        num_features = 1\n",
        "        for s in size:\n",
        "            num_features *= s\n",
        "        return num_features\n",
        "\n",
        "\n",
        "net = Net()\n",
        "print(net)"
      ]
    }
  ],
  "metadata": {
    "colab": {
      "provenance": []
    },
    "kernelspec": {
      "display_name": "Python 3",
      "name": "python3"
    },
    "language_info": {
      "name": "python"
    }
  },
  "nbformat": 4,
  "nbformat_minor": 0
}